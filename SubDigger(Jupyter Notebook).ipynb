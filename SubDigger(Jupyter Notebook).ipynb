{
 "cells": [
  {
   "cell_type": "markdown",
   "id": "187f0377",
   "metadata": {},
   "source": [
    "# Listing the requests that are sent and recieved from the server to understand the functionality of the server and csrf implementation mechanism "
   ]
  },
  {
   "cell_type": "code",
   "execution_count": null,
   "id": "e17d84c3",
   "metadata": {},
   "outputs": [],
   "source": [
    "GET / HTTP/2\n",
    "Host: dnsdumpster.com\n",
    "Cookie: csrftoken=atzYtbi67IHqkYq48ssgeAoyvk0lBlWbGnBWiAOqzW59IYO6JnEmuGZGdL1rvyYD; _ga=GA1.2.1225117010.1653295746; _gid=GA1.2.1392022269.1653295746; _gat=1\n",
    "User-Agent: Mozilla/5.0 (Windows NT 10.0; Win64; x64; rv:100.0) Gecko/20100101 Firefox/100.0\n",
    "Accept: text/html,application/xhtml+xml,application/xml;q=0.9,image/avif,image/webp,*/*;q=0.8\n",
    "Accept-Language: en-US,en;q=0.5\n",
    "Accept-Encoding: gzip, deflate\n",
    "Upgrade-Insecure-Requests: 1\n",
    "Sec-Fetch-Dest: document\n",
    "Sec-Fetch-Mode: navigate\n",
    "Sec-Fetch-Site: none\n",
    "Sec-Fetch-User: ?1\n",
    "Te: trailers\n",
    "    "
   ]
  },
  {
   "cell_type": "code",
   "execution_count": null,
   "id": "2d720a62",
   "metadata": {},
   "outputs": [],
   "source": [
    "HTTP/2 200 OK\n",
    "Server: nginx\n",
    "Date: Mon, 23 May 2022 10:22:08 GMT\n",
    "Content-Type: text/html; charset=utf-8\n",
    "X-Frame-Options: SAMEORIGIN\n",
    "Vary: Cookie\n",
    "Set-Cookie: csrftoken=atzYtbi67IHqkYq48ssgeAoyvk0lBlWbGnBWiAOqzW59IYO6JnEmuGZGdL1rvyYD; expires=Mon, 22 May 2023 10:22:08 GMT; Max-Age=31449600; Path=/; SameSite=Lax\n",
    "Access-Control-Allow-Origin: *\n",
    "Access-Control-Allow-Credentials: true\n",
    "Access-Control-Allow-Methods: GET, POST, OPTIONS\n",
    "Access-Control-Allow-Headers: DNT,X-CustomHeader,Keep-Alive,User-Agent,X-Requested-With,If-Modified-Since,Cache-Control,Content-Type\n",
    "X-Frame-Options: ALLOW-FROM https://api.hackertarget.com/\n",
    "\n",
    "\n",
    "-----------------------------------------------HTML CONTENT--------------------------------------------------------"
   ]
  },
  {
   "cell_type": "code",
   "execution_count": null,
   "id": "329d5819",
   "metadata": {},
   "outputs": [],
   "source": [
    "POST / HTTP/2\n",
    "Host: dnsdumpster.com\n",
    "Cookie: csrftoken=atzYtbi67IHqkYq48ssgeAoyvk0lBlWbGnBWiAOqzW59IYO6JnEmuGZGdL1rvyYD; _ga=GA1.2.1225117010.1653295746; _gid=GA1.2.1392022269.1653295746; _gat=1\n",
    "User-Agent: Mozilla/5.0 (Windows NT 10.0; Win64; x64; rv:100.0) Gecko/20100101 Firefox/100.0\n",
    "Accept: text/html,application/xhtml+xml,application/xml;q=0.9,image/avif,image/webp,*/*;q=0.8\n",
    "Accept-Language: en-US,en;q=0.5\n",
    "Accept-Encoding: gzip, deflate\n",
    "Content-Type: application/x-www-form-urlencoded\n",
    "Content-Length: 119\n",
    "Origin: https://dnsdumpster.com\n",
    "Referer: https://dnsdumpster.com/\n",
    "Upgrade-Insecure-Requests: 1\n",
    "Sec-Fetch-Dest: document\n",
    "Sec-Fetch-Mode: navigate\n",
    "Sec-Fetch-Site: same-origin\n",
    "Sec-Fetch-User: ?1\n",
    "Te: trailers\n",
    "\n",
    "csrfmiddlewaretoken=sNyRuAwuMz3tdZw1mi7xKzBG8yYhOo1KYHAPjZ2OeNrcBZU3XdjD0FcOQZZnIB3c&targetip=rishabhyadav.in&user=free\n"
   ]
  },
  {
   "cell_type": "code",
   "execution_count": null,
   "id": "64d720e0",
   "metadata": {},
   "outputs": [],
   "source": [
    "HTTP/2 200 OK\n",
    "Server: nginx\n",
    "Date: Mon, 23 May 2022 10:21:39 GMT\n",
    "Content-Type: text/html; charset=utf-8\n",
    "X-Frame-Options: SAMEORIGIN\n",
    "Vary: Cookie\n",
    "Set-Cookie: csrftoken=atzYtbi67IHqkYq48ssgeAoyvk0lBlWbGnBWiAOqzW59IYO6JnEmuGZGdL1rvyYD; expires=Mon, 22 May 2023 10:21:39 GMT; Max-Age=31449600; Path=/; SameSite=Lax\n",
    "Access-Control-Allow-Origin: *\n",
    "Access-Control-Allow-Credentials: true\n",
    "Access-Control-Allow-Methods: GET, POST, OPTIONS\n",
    "Access-Control-Allow-Headers: DNT,X-CustomHeader,Keep-Alive,User-Agent,X-Requested-With,If-Modified-Since,Cache-Control,Content-Type\n",
    "X-Frame-Options: ALLOW-FROM https://api.hackertarget.com/\n",
    "\n",
    "        -----------------------------------------------HTML CONTENT----------------------------------------------"
   ]
  },
  {
   "cell_type": "markdown",
   "id": "be2585ad",
   "metadata": {},
   "source": [
    " # -------------------------------------------------------------------------------------------------------------- "
   ]
  },
  {
   "cell_type": "code",
   "execution_count": 42,
   "id": "41ad0595",
   "metadata": {},
   "outputs": [],
   "source": [
    "# import http\n",
    "# from urllib import request\n",
    "# from bs4 import BeautifulSoup\n",
    "import requests"
   ]
  },
  {
   "cell_type": "code",
   "execution_count": 43,
   "id": "46534bb3",
   "metadata": {},
   "outputs": [],
   "source": [
    "# html_txt = requests.get('http://www.columbia.edu/~fdc/sample.html').text\n",
    "# # print(html_txt)\n",
    "# soup = BeautifulSoup(html_txt, 'lxml')\n",
    "# for wrapper in soup.find_all('h3'):\n",
    "#     print(wrapper.text)"
   ]
  },
  {
   "cell_type": "code",
   "execution_count": 44,
   "id": "62c04cc8",
   "metadata": {},
   "outputs": [
    {
     "name": "stdout",
     "output_type": "stream",
     "text": [
      "<class 'requests.models.Response'>\n",
      "<class 'bytes'>\n"
     ]
    }
   ],
   "source": [
    "### now starting project phase 1 on dnsdumpster\n",
    "get_req_csrf = requests.get('https://dnsdumpster.com/')\n",
    "data_for_postreq2 = {'targetip':'rishabhyadav.in'}\n",
    "# print(\"Status code: \", get_req_csrf.status_code)\n",
    "print(type(get_req_csrf))\n",
    "print(type(get_req_csrf.content))"
   ]
  },
  {
   "cell_type": "code",
   "execution_count": 45,
   "id": "0ab7fbc5",
   "metadata": {},
   "outputs": [
    {
     "name": "stdout",
     "output_type": "stream",
     "text": [
      "Response hearder:  {'Server': 'nginx', 'Date': 'Mon, 23 May 2022 10:12:36 GMT', 'Content-Type': 'text/html; charset=utf-8', 'Transfer-Encoding': 'chunked', 'Connection': 'keep-alive', 'X-Frame-Options': 'SAMEORIGIN, ALLOW-FROM https://api.hackertarget.com/', 'Vary': 'Cookie', 'Set-Cookie': 'csrftoken=fJD4E55Vzbxinu7FwCuKzMqaWFijuYqAXKIdUG3fLGFdvQfYHyOGi73o41T7Zfnz; expires=Mon, 22 May 2023 10:12:36 GMT; Max-Age=31449600; Path=/; SameSite=Lax', 'Access-Control-Allow-Origin': '*', 'Access-Control-Allow-Credentials': 'true', 'Access-Control-Allow-Methods': 'GET, POST, OPTIONS', 'Access-Control-Allow-Headers': 'DNT,X-CustomHeader,Keep-Alive,User-Agent,X-Requested-With,If-Modified-Since,Cache-Control,Content-Type', 'Content-Encoding': 'gzip'}\n"
     ]
    }
   ],
   "source": [
    "# print(\"Content: \", get_req_csrf.content)\n",
    "# print(\"Text is : \", get_req_csrf.text)\n",
    "# print(\"json is : \", get_req_csrf.json)\n",
    "print(\"Response hearder: \", get_req_csrf.headers)\n",
    "# print(\" \")\n",
    "# print(\" \")\n",
    "# print(\"cokkies: \", get_req_csrf.cookies)\n",
    "# get_cookie = get_req_csrf.cookies\n",
    "# print(get_cookie)"
   ]
  },
  {
   "cell_type": "code",
   "execution_count": 46,
   "id": "8c143d9a",
   "metadata": {},
   "outputs": [],
   "source": [
    "csrf_token = get_req_csrf.headers['Set-Cookie'].split('=')[1].split(';')[0]"
   ]
  },
  {
   "cell_type": "code",
   "execution_count": 47,
   "id": "0a3836c9",
   "metadata": {},
   "outputs": [
    {
     "data": {
      "text/plain": [
       "'fJD4E55Vzbxinu7FwCuKzMqaWFijuYqAXKIdUG3fLGFdvQfYHyOGi73o41T7Zfnz'"
      ]
     },
     "execution_count": 47,
     "metadata": {},
     "output_type": "execute_result"
    }
   ],
   "source": [
    "csrf_token"
   ]
  },
  {
   "cell_type": "code",
   "execution_count": 48,
   "id": "f9d1c036",
   "metadata": {},
   "outputs": [
    {
     "data": {
      "text/plain": [
       "str"
      ]
     },
     "execution_count": 48,
     "metadata": {},
     "output_type": "execute_result"
    }
   ],
   "source": [
    "type(csrf_token)"
   ]
  },
  {
   "cell_type": "code",
   "execution_count": 49,
   "id": "f5ae2611",
   "metadata": {},
   "outputs": [
    {
     "name": "stdout",
     "output_type": "stream",
     "text": [
      "<urllib3.response.HTTPResponse object at 0x000001DC0655C820>\n"
     ]
    }
   ],
   "source": [
    "print(get_req_csrf.raw)\n"
   ]
  },
  {
   "cell_type": "code",
   "execution_count": 50,
   "id": "86de8172",
   "metadata": {},
   "outputs": [
    {
     "data": {
      "text/plain": [
       "<RequestsCookieJar[Cookie(version=0, name='csrftoken', value='fJD4E55Vzbxinu7FwCuKzMqaWFijuYqAXKIdUG3fLGFdvQfYHyOGi73o41T7Zfnz', port=None, port_specified=False, domain='dnsdumpster.com', domain_specified=False, domain_initial_dot=False, path='/', path_specified=True, secure=False, expires=1684750355, discard=False, comment=None, comment_url=None, rest={'SameSite': 'Lax'}, rfc2109=False)]>"
      ]
     },
     "execution_count": 50,
     "metadata": {},
     "output_type": "execute_result"
    }
   ],
   "source": [
    "get_req_csrf.cookies"
   ]
  },
  {
   "cell_type": "code",
   "execution_count": 51,
   "id": "32bd398a",
   "metadata": {},
   "outputs": [],
   "source": [
    "post_req_header_refrer = {'Referer': 'https://dnsdumpster.com/'}"
   ]
  },
  {
   "cell_type": "code",
   "execution_count": 52,
   "id": "fa41ac30",
   "metadata": {},
   "outputs": [
    {
     "data": {
      "text/plain": [
       "dict"
      ]
     },
     "execution_count": 52,
     "metadata": {},
     "output_type": "execute_result"
    }
   ],
   "source": [
    "type(post_req_header_refrer)"
   ]
  },
  {
   "cell_type": "code",
   "execution_count": null,
   "id": "cdeb92eb",
   "metadata": {},
   "outputs": [],
   "source": []
  },
  {
   "cell_type": "code",
   "execution_count": 53,
   "id": "4d340da8",
   "metadata": {},
   "outputs": [],
   "source": [
    "# post_req2 = requests.post('https://dnsdumpster.com', data = data_for_postreq2, header = post_req_header_refrer)"
   ]
  },
  {
   "cell_type": "code",
   "execution_count": 54,
   "id": "7abb2a70",
   "metadata": {},
   "outputs": [
    {
     "data": {
      "text/plain": [
       "b'\\n<!DOCTYPE html>\\n<html lang=\"en\">\\n<head>\\n  <meta http-equiv=\"content-type\" content=\"text/html; charset=utf-8\">\\n  <meta name=\"robots\" content=\"NONE,NOARCHIVE\">\\n  <title>403 Forbidden</title>\\n  <style type=\"text/css\">\\n    html * { padding:0; margin:0; }\\n    body * { padding:10px 20px; }\\n    body * * { padding:0; }\\n    body { font:small sans-serif; background:#eee; color:#000; }\\n    body>div { border-bottom:1px solid #ddd; }\\n    h1 { font-weight:normal; margin-bottom:.4em; }\\n    h1 span { font-size:60%; color:#666; font-weight:normal; }\\n    #info { background:#f6f6f6; }\\n    #info ul { margin: 0.5em 4em; }\\n    #info p, #summary p { padding-top:10px; }\\n    #summary { background: #ffc; }\\n    #explanation { background:#eee; border-bottom: 0px none; }\\n  </style>\\n</head>\\n<body>\\n<div id=\"summary\">\\n  <h1>Forbidden <span>(403)</span></h1>\\n  <p>CSRF verification failed. Request aborted.</p>\\n\\n  <p>You are seeing this message because this HTTPS site requires a &#39;Referer header&#39; to be sent by your Web browser, but none was sent. This header is required for security reasons, to ensure that your browser is not being hijacked by third parties.</p>\\n  <p>If you have configured your browser to disable &#39;Referer&#39; headers, please re-enable them, at least for this site, or for HTTPS connections, or for &#39;same-origin&#39; requests.</p>\\n  <p>If you are using the &lt;meta name=&quot;referrer&quot; content=&quot;no-referrer&quot;&gt; tag or including the &#39;Referrer-Policy: no-referrer&#39; header, please remove them. The CSRF protection requires the &#39;Referer&#39; header to do strict referer checking. If you&#39;re concerned about privacy, use alternatives like &lt;a rel=&quot;noreferrer&quot; ...&gt; for links to third-party sites.</p>\\n\\n\\n</div>\\n\\n<div id=\"explanation\">\\n  <p><small>More information is available with DEBUG=True.</small></p>\\n</div>\\n\\n</body>\\n</html>\\n'"
      ]
     },
     "execution_count": 54,
     "metadata": {},
     "output_type": "execute_result"
    }
   ],
   "source": [
    "post_req2.content"
   ]
  },
  {
   "cell_type": "markdown",
   "id": "8082324b",
   "metadata": {},
   "source": [
    "###  Trying session from request module"
   ]
  },
  {
   "cell_type": "raw",
   "id": "ff0b5e52",
   "metadata": {},
   "source": []
  },
  {
   "cell_type": "code",
   "execution_count": 56,
   "id": "01d5a7f6",
   "metadata": {},
   "outputs": [],
   "source": [
    "r = requests.session()"
   ]
  },
  {
   "cell_type": "code",
   "execution_count": 57,
   "id": "08d00b1d",
   "metadata": {},
   "outputs": [],
   "source": [
    "r.headers.update(post_req_header_refrer)"
   ]
  },
  {
   "cell_type": "code",
   "execution_count": 58,
   "id": "483466cd",
   "metadata": {},
   "outputs": [],
   "source": [
    "r1 = r.get('https://dnsdumpster.com')"
   ]
  },
  {
   "cell_type": "code",
   "execution_count": 59,
   "id": "5fc8ece3",
   "metadata": {},
   "outputs": [
    {
     "data": {
      "text/plain": [
       "b'<!DOCTYPE html>\\n<html lang=\"en\">\\n  <head>\\n\\n    <meta charset=\"utf-8\">\\n    <meta http-equiv=\"X-UA-Compatible\" content=\"IE=edge\">\\n<meta name=\"google-site-verification\" content=\"vAWNZCy-5XAPGRgA2_NY5HictfnByvgpqOLQUAmVZW0\" />\\n    <meta name=\"viewport\" content=\"width=device-width, initial-scale=1\">\\n    <meta name=\"description\" content=\"Find dns records in order to identify the Internet footprint of an organization. Recon that enables deeper security assessments and discovery of the attack surface.\">\\n    <meta name=\"author\" content=\"\">\\n    <link rel=\"icon\" href=\"/static/favicon.ico\">\\n    <title>DNSdumpster.com - dns recon and research, find and lookup dns records</title>\\n\\n\\n    <!-- Bootstrap core CSS -->\\n    <link href=\"/static/css/bootstrap.min.css\" rel=\"stylesheet\">\\n    <link href=\"/static/font-awesome/css/font-awesome.min.css\" rel=\"stylesheet\">\\n\\n    <!-- Custom styles for this template -->\\n    <link href=\"/static/cover.css?v=1.4\" rel=\"stylesheet\">\\n\\n  </head>\\n\\n  <body>\\n\\n    <div class=\"site-wrapper\">\\n      <div class=\"site-wrapper-inner\">\\n<!-- Section 1 -->\\n<section id=\"intro\" data-speed=\"6\" data-type=\"background\">\\n    <div class=\"container\">\\n\\n   <div class=\"masthead clearfix\">\\n   <div class=\"container inner\">\\n        <nav>\\n       <ul class=\"nav masthead-nav\">\\n   <li><a href=\"https://dnsdumpster.com/\" data-toggle=\"tooltip\"  data-placement=\"bottom\" title=\"Home\"><i style=\"font-size: 1.2em;\" class=\"fa fa-home\"></i></a></li>\\n   <li><a href=\"/osint-network-defenders/\"  data-toggle=\"tooltip\"  data-placement=\"bottom\" title=\"Defend\"><i style=\"font-size: 1.2em;\" class=\"fa fa-shield\" aria-hidden=\"true\"></i></a></li>\\n   <li><a href=\"/footprinting-reconnaissance/\" data-placement=\"bottom\" data-toggle=\"tooltip\" title=\"Learn\"><i style=\"font-size: 1.2em;\" class=\"fa fa-mortar-board\" aria-hidden=\"true\"></i></a></li>\\n   <li><a href=\"https://hackertarget.com/\" data-toggle=\"tooltip\" title=\"Online Vulnerability Scanners\"><i style=\"font-size: 1.2em; color: #00CC00;\" class=\"fa fa-bullseye\"></i></a></li>\\n       </ul>\\n        </nav>\\n   </div>\\n   </div>\\n\\n\\n\\n\\n        <div class=\"cover-container\" style=\"max-width: 900px;\">\\n          <div class=\"inner cover\">\\n            <h1 class=\"cover-heading\" style=\"margin-top: 100px;\">dns recon & research, find & lookup dns records</h1>\\n<p class=\"lead\">\\n<div id=\"hideform\">\\n<form role=\"form\" action=\".\" method=\"post\"><input type=\"hidden\" name=\"csrfmiddlewaretoken\" value=\"RFncOY7D4PKI6wAWsmgFlJvYXtjR4dVfbbyed6VkKePNuPZO3eNpPR5t2SyGHz15\">\\n  <div class=\"form-group\">\\n<div class=\"col-md-2\"></div><div class=\"col-md-6\">\\n\\n<input class=\"form-control\" type=\"text\" placeholder=\"exampledomain.com\" name=\"targetip\" id=\"regularInput\" autofocus>\\n\\n<input type=\"hidden\" name=\"user\" value=\"free\">\\n</div></div>\\n<div align=\"left\" id=\"formsubmit\"><button type=\"submit\" class=\"btn btn-default\">Search <span class=\"glyphicon glyphicon-chevron-right\"></span></button></div>\\n</form></div></div>\\n<div class=\"row\"><div class=\"col-md-2\"></div><div class=\"col-md-8\">\\n<div id=\"showloading\" style=\"color: #fff;\">Loading...<br>\\n<div class=\"progress\">\\n<div class=\"progress-bar progress-bar-success progress-bar-striped active\" role=\"progressbar\" aria-valuenow=\"45\" aria-valuemin=\"0\" aria-valuemax=\"100\" style=\"width: 100%\">\\n</div></div></div></div></div></div>\\n</P>\\n\\n<div class=\"row\"><div class=\"col-md-12\" style=\"padding: 80px;\">\\n\\n</div></div>\\n\\n<p class=\"lead\" style=\"margin-top: 40px; margin-bottom: 30px;\">DNSdumpster.com is a FREE domain research tool that can discover hosts related to a domain. Finding visible hosts from the attackers perspective is an important part of the security assessment process.</p>\\n\\n          </div>\\n\\n              <p style=\"color: #777; margin-top: 40px;\">this is a <a href=\"https://hackertarget.com/\" title=\"Online Vulnerability Scanners\"><button type=\"button\" class=\"btn btn-danger btn-xs\">HackerTarget.com</button></a> project</p>\\n\\n\\n      <div style=\"margin-top: 160px;\" class=\"container\">\\n        <div class=\"row\">\\n          <div class=\"col-lg-12 text-center\">\\n            <h2 class=\"section-heading text-uppercase\"></h2>\\n            <h3 class=\"section-subheading text-muted\">Open Source Intelligence for Networks</h3>\\n          </div>\\n        </div>\\n        <div style=\"margin-top: 30px;\" class=\"row text-center\">\\n          <div class=\"col-md-4\">\\n            <span class=\"fa-stack fa-4x\">\\n              <i class=\"fa fa-user-secret fa-stack-1x\" style=\"color: #00CC00;\"></i>\\n            </span>\\n            <h4 class=\"service-heading\">Attack</h4>\\n            <p class=\"text-muted\">The ability to quickly identify the attack surface is essential. Whether you are penetration testing or chasing bug bounties.</p>\\n          </div>\\n          <div class=\"col-md-4\">\\n            <span class=\"fa-stack fa-4x\">\\n              <i class=\"fa fa-shield fa-stack-1x\" style=\"color: #00CC00;\"></i>\\n            </span>\\n            <h4 class=\"service-heading\">Defend</h4>\\n            <p class=\"text-muted\">Network defenders benefit from passive reconnaissance in a number of ways. With analysis informing information security strategy.</p>\\n          </div>\\n          <div class=\"col-md-4\">\\n            <span class=\"fa-stack fa-4x\">\\n              <i class=\"fa fa-mortar-board fa-stack-1x\" style=\"color: #00CC00;\"></i>\\n            </span>\\n            <h4 class=\"service-heading\">Learn</h4>\\n            <p class=\"text-muted\">Understanding network based OSINT helps information technologists to better operate, assess and manage the network.</p>\\n          </div>\\n        </div>\\n      </div>\\n\\n\\n\\n\\n    <div class=\"container\" style=\"background-color: #474747; margin-top: 180px; padding-bottom: 80px;\"><div class=\"col-md-2\"></div><div class=\"col-md-8\">\\n\\n       <span class=\"glyphicon glyphicon-trash\" style=\"font-size: 4em; line-height: 5.5em;\"></span>\\n<p style=\"font-size: 1.7em; line-height: 1.9em; margin-bottom: 80px;\">Map an organizations attack surface with a virtual <i>dumpster dive*</i> of the DNS records associated with the target organization.</p>\\n<p style=\"font-size: 1.2em; color: #fff;\">*DUMPSTER DIVING: The practice of sifting refuse from an office or technical installation to extract confidential data, especially security-compromising information.</p>\\n</div>    </div>\\n\\n\\n<div class=\"container\" style=\"text-align: left; margin-top: 80px; margin-bottom: 80px;\">\\n\\n<h2 style=\"font-size: 1.8em;\">Frequently Asked Questions</h2>\\n\\n<h4 style=\"margin-top: 30px;\">How can I take my security assessments to the next level?</h4>\\n\\n<p>The company behind DNSDumpster is <a href=\"https://hackertarget.com/\" title=\"Online Vulnerability Scanners\">hackertarget.com</a> where we provide online hosted access to trusted open source security vulnerability scanners and network intelligence tools.</P><P>Save time and headaches by incorporating our attack surface discovery into your vulnerability assessment process.</p><P style=\"text-align: center; padding: 30px;\"><a href=\"https://hackertarget.com/\" title=\"HackerTarget.com | Online Security Testing and Open Source Intelligence\"><img src=\"https://hackertarget.com/wp-content/uploads/2019/09/know-your-network-tools.png\" alt=\"HackerTarget.com | Online Security Testing and Open Source Intelligence\"></a></p>\\n\\n<h4>What data does DNSDumpster use?</h4>\\n\\n<p>No brute force subdomain enumeration is used as is common in dns recon tools that enumerate subdomains. We use open source intelligence resources to query for related domain data. It is then compiled into an actionable resource for both attackers and defenders of Internet facing systems.</P>\\n<P>More than a simple <a href=\"https://hackertarget.com/dns-lookup/\" title=\"Online DNS Lookup\">DNS lookup</a> this tool will discover those hard to find sub-domains and web hosts. The search relies on data from our crawls of the Alexa Top 1 Million sites, Search Engines, Common Crawl, Certificate Transparency, Max Mind, Team Cymru, Shodan and <a href=\"https://scans.io/\" style=\"text-decoration: underline;\">scans.io</a>.</P>\\n\\n<h4>I have hit the host limit, do you have a PRO option?</h4>\\n\\n<P>Over at <a href=\"https://hackertarget.com/\" title=\"Online Vulnerability Scanners\">hackertarget.com</a> there\\'s a tool we call <a href=\"https://hackertarget.com/domain-profiler/\">domain profiler</a>. This compiles data similiar to DNSDumpster; with additional data discovery. Queries available are based on the membership plan with the number of results (subdomains) being unlimited. With a STARTER membership you have access to the domain profiler tool for 12 months. Once the years membership expires you will revert to BASIC member status, however access to Domain Profiler and Basic Nmap scans continue. The BASIC access does not expire.</P>\\n\\n<h4>What are some other resources and tools for learning more?</h4>\\n\\n<P>There are some great open source recon frameworks that have been developed over the past couple of years. In addition tools such as <b>Metasploit</b> and <b>Nmap</b> include various modules for enumerating DNS. Check our <a href=\"https://dnsdumpster.com/footprinting-reconnaissance/\">Getting Started with Footprinting</a> for more information.</P>\\n\\n</div>\\n\\n\\n</div></div>\\n</div></div>\\n\\n<footer>\\n<div class=\"row\" style=\"background-color: #1e1e1e; padding-top: 40px; padding-bottom: 20px;\"><div class=\"container\">\\n<div class=\"col-md-6 col-sm-12 right-border\" style=\"text-align: center;\">\\n<div class=\"footer-about\" style=\"text-align: left; padding-left: 40px;\">\\n<h2 class=\"footer-title\" style=\"font-size: 1.8em;\">About</h2>\\n<p style=\"margin-top: 20px;\">At <a href=\"https://hackertarget.com/\">hackertarget.com</a>, we have been scanning the Internet since 2007. Our vulnerability scanners now reach millions of IP addresses every year. We work to raise awareness of the value in open source security solutions.</p>\\n</div>\\n</div>\\n<div class=\"col-md-6 col-sm-12\">\\n<div class=\"contact-info\" style=\"text-align: left; padding-left: 40px;\">\\n<h2 class=\"footer-title\" style=\"font-size: 1.8em;\">Stay in Touch</h2>\\n\\n<div class=\"single\">\\n        <p><i style=\"font-size: 1.2em;\" class=\"fa fa-envelope\"></i> dnsdumpster@gmail.com</p>\\n</div>\\n<div class=\"single\">\\n        <p><i style=\"font-size: 1.2em;\" class=\"fa fa-twitter\"></i> <a href=\"https://twitter.com/hackertarget/\">@hackertarget</a></p>\\n</div>\\n<!-- Begin MailChimp Signup Form -->\\n<link href=\"https://cdn-images.mailchimp.com/embedcode/horizontal-slim-10_7.css\" rel=\"stylesheet\" type=\"text/css\">\\n<style type=\"text/css\">\\n    #mc_embed_signup{background:#1e1e1e; clear:left; font:14px Helvetica,Arial,sans-serif; width:100%;}\\n        /* Add your own MailChimp form style overrides in your site stylesheet or in this style block.\\n               We recommend moving this block and the preceding CSS link to the HEAD of your HTML file. */\\n               </style>\\n               <div id=\"mc_embed_signup\">\\n               <form action=\"https://dnsdumpster.us17.list-manage.com/subscribe/post?u=3cbc62d931a69e74b2c856f1a&amp;id=532c46ab39\" method=\"post\" id=\"mc-embedded-subscribe-form\" name=\"mc-embedded-subscribe-form\" class=\"validate\" target=\"_blank\" novalidate>\\n                   <div id=\"mc_embed_signup_scroll\" style=\"text-align: left;\">\\n\\n                        <input type=\"email\" value=\"\" name=\"EMAIL\" class=\"email\" id=\"mce-EMAIL\" placeholder=\"email address\" required>\\n                            <!-- real people should not fill this in and expect good things - do not remove this or risk form bot signups-->\\n                                <div style=\"position: absolute; left: -5000px;\" aria-hidden=\"true\"><input type=\"text\" name=\"b_3cbc62d931a69e74b2c856f1a_532c46ab39\" tabindex=\"-1\" value=\"\"></div><br>\\n                                    <div class=\"clear\" style=\"margin-top: 5px;\"><input type=\"submit\" style=\"background-color: #00CC00;\" value=\"Subscribe to our List\" name=\"subscribe\" id=\"mc-embedded-subscribe\" class=\"button\"> <span style=\"font-size: 0.8em;\">Low volume Updates and News</a></div>\\n                                        </div>\\n                                        </form>\\n                                        </div>\\n\\n                                        <!--End mc_embed_signup-->\\n\\n</div>\\n</div>\\n</div>\\n<div class=\"clearfix\"></div>\\n<div class=\"copyright\" style=\"background-color: #1e1e1e; margin-top: 20px;\">\\n<p>Copyright &copy; 2019 Hacker Target Pty Ltd</p>\\n</div>\\n</div>\\n</div>\\n</div>\\n</footer>\\n                                                </div>\\n                                        </div>\\n                                </div>\\n                        </div>\\n\\n\\n\\n\\n</div></div>\\n\\n    <!-- Bootstrap core JavaScript\\n    ================================================== -->\\n    <!-- Placed at the end of the document so the pages load faster -->\\n    <script src=\"https://dnsdumpster.com/static/js/jquery-1.12.4.min.js\"></script>\\n    <script src=\"/static/js/bootstrap.min.js\"></script>\\n\\n\\n\\n<script type=\"text/javascript\">\\n            $(document).ready(function() {\\n$(\\'[data-toggle=\"tooltip\"]\\').tooltip({\\'placement\\': \\'top\\'});\\n\\n$(\"body\").on(\\'DOMSubtreeModified\\', \".modal-content\", function() {\\n    $(\".modal-heading\").hide();\\n    $(\".modal-content\").show();\\n});\\n\\n      $(\\'body\\').on(\\'hidden.bs.modal\\', \\'.modal\\', function () {\\n        $(this).removeData(\\'bs.modal\\');\\n      });\\n\\n            }); //END $(document).ready()\\n\\n\\n$(\\'a.external\\').on(\\'click\\', function(e) {\\n        e.preventDefault();\\n        $(\".modal-heading\").show();\\n        $(\".modal-content\").hide();\\n\\n\\n        var url = $(this).attr(\\'href\\');\\n        $(\".modal-body\").html(\\'<iframe id=\"myiframe\" style=\"background-color: #ccc;\" width=\"100%\" height=\"100%\" frameborder=\"0\" scrolling=\"yes\" allowtransparency=\"true\" src=\"\\'+url+\\'\"></iframe>\\');\\n    });\\n\\n \\n\\n\\n    $(\\'#myModal\\').on(\\'show.bs.modal\\', function () {\\n        $(this).find(\\'.modal-dialog\\').css({\\n                  width:\\'80%\\', //choose your width\\n                  height:\\'80%\\',\\n                  \\'padding\\':\\'5\\'\\n           });\\n         $(this).find(\\'.modal-content\\').css({\\n                  height:\\'100%\\',\\n                  \\'border-radius\\':\\'0\\',\\n                  \\'padding\\':\\'15\\'\\n           });\\n         $(this).find(\\'.modal-body\\').html(null);\\n         $(this).find(\\'.modal-body\\').css({\\n                  width:\\'auto\\',\\n                  height:\\'100%\\',\\n                  \\'padding\\':\\'5\\'\\n           });\\n    })\\n\\n        </script>\\n\\n<script>\\n$(document).ready(function(){\\n  $(\"#showloading\").hide();\\n  $(\"#formsubmit\").click(function(){\\n    $(\"#hideform\").hide();\\n    $(\"#showloading\").show();\\n  });\\n\\n});\\n</script>\\n<script>\\n  (function(i,s,o,g,r,a,m){i[\\'GoogleAnalyticsObject\\']=r;i[r]=i[r]||function(){\\n  (i[r].q=i[r].q||[]).push(arguments)},i[r].l=1*new Date();a=s.createElement(o),\\n  m=s.getElementsByTagName(o)[0];a.async=1;a.src=g;m.parentNode.insertBefore(a,m)\\n  })(window,document,\\'script\\',\\'//www.google-analytics.com/analytics.js\\',\\'ga\\');\\n\\n  ga(\\'create\\', \\'UA-2487671-6\\', \\'auto\\');\\n  ga(\\'send\\', \\'pageview\\');\\n\\n</script>\\n  </body>\\n</html>\\n'"
      ]
     },
     "execution_count": 59,
     "metadata": {},
     "output_type": "execute_result"
    }
   ],
   "source": [
    "r1.content"
   ]
  },
  {
   "cell_type": "code",
   "execution_count": 61,
   "id": "7aaec507",
   "metadata": {},
   "outputs": [],
   "source": [
    "r2 = r.post('https://dnsdumpster.com',data = data_for_postreq2)"
   ]
  },
  {
   "cell_type": "code",
   "execution_count": 62,
   "id": "5f0474b1",
   "metadata": {},
   "outputs": [
    {
     "data": {
      "text/plain": [
       "b'\\n<!DOCTYPE html>\\n<html lang=\"en\">\\n<head>\\n  <meta http-equiv=\"content-type\" content=\"text/html; charset=utf-8\">\\n  <meta name=\"robots\" content=\"NONE,NOARCHIVE\">\\n  <title>403 Forbidden</title>\\n  <style type=\"text/css\">\\n    html * { padding:0; margin:0; }\\n    body * { padding:10px 20px; }\\n    body * * { padding:0; }\\n    body { font:small sans-serif; background:#eee; color:#000; }\\n    body>div { border-bottom:1px solid #ddd; }\\n    h1 { font-weight:normal; margin-bottom:.4em; }\\n    h1 span { font-size:60%; color:#666; font-weight:normal; }\\n    #info { background:#f6f6f6; }\\n    #info ul { margin: 0.5em 4em; }\\n    #info p, #summary p { padding-top:10px; }\\n    #summary { background: #ffc; }\\n    #explanation { background:#eee; border-bottom: 0px none; }\\n  </style>\\n</head>\\n<body>\\n<div id=\"summary\">\\n  <h1>Forbidden <span>(403)</span></h1>\\n  <p>CSRF verification failed. Request aborted.</p>\\n\\n\\n</div>\\n\\n<div id=\"explanation\">\\n  <p><small>More information is available with DEBUG=True.</small></p>\\n</div>\\n\\n</body>\\n</html>\\n'"
      ]
     },
     "execution_count": 62,
     "metadata": {},
     "output_type": "execute_result"
    }
   ],
   "source": [
    "r2.content"
   ]
  },
  {
   "cell_type": "code",
   "execution_count": 6,
   "id": "b42d4aff",
   "metadata": {},
   "outputs": [
    {
     "data": {
      "text/plain": [
       "dict"
      ]
     },
     "execution_count": 6,
     "metadata": {},
     "output_type": "execute_result"
    }
   ],
   "source": [
    "all_headers = {\"User-Agent\": \"Mozilla/5.0 (Windows NT 10.0; Win64; x64; rv:100.0) Gecko/20100101 Firefox/100.0\",\n",
    "\"Accept\":\"text/html,application/xhtml+xml,application/xml;q=0.9,image/avif,image/webp,*/*;q=0.8\",\n",
    "\"Accept-Language\": \"en-US,en;q=0.5\",\n",
    "\"Accept-Encoding\": \"gzip, deflate\",\n",
    "\"Upgrade-Insecure-Requests\": \"1\",\n",
    "\"Sec-Fetch-Dest\": \"document\",\n",
    "\"Sec-Fetch-Mode\": \"navigate\",\n",
    "\"Sec-Fetch-Site\": \"none\",\n",
    "\"Sec-Fetch-User\": \"?1\"}\n",
    "type(all_headers)"
   ]
  },
  {
   "cell_type": "code",
   "execution_count": null,
   "id": "0110a1c5",
   "metadata": {},
   "outputs": [],
   "source": []
  }
 ],
 "metadata": {
  "kernelspec": {
   "display_name": "Python 3 (ipykernel)",
   "language": "python",
   "name": "python3"
  },
  "language_info": {
   "codemirror_mode": {
    "name": "ipython",
    "version": 3
   },
   "file_extension": ".py",
   "mimetype": "text/x-python",
   "name": "python",
   "nbconvert_exporter": "python",
   "pygments_lexer": "ipython3",
   "version": "3.10.4"
  }
 },
 "nbformat": 4,
 "nbformat_minor": 5
}
